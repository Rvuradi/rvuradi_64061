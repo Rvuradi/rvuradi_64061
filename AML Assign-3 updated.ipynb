{
  "cells": [
    {
      "cell_type": "markdown",
      "metadata": {
        "id": "GY4r34_ThBjQ"
      },
      "source": [
        "## Assignment 3 Timeseries\n",
        "\n",
        "## Rohit Vuradi"
      ]
    },
    {
      "cell_type": "markdown",
      "metadata": {
        "id": "tt-vl7OfhBjR"
      },
      "source": [
        "## Different kinds of timeseries tasks"
      ]
    },
    {
      "cell_type": "markdown",
      "source": [],
      "metadata": {
        "id": "3jA7LRcTAPLH"
      }
    },
    {
      "cell_type": "markdown",
      "metadata": {
        "id": "HGYFwn4zhBjR"
      },
      "source": [
        "## A temperature-forecasting example"
      ]
    },
    {
      "cell_type": "markdown",
      "source": [],
      "metadata": {
        "id": "1hUxxJAaAQJF"
      }
    },
    {
      "cell_type": "code",
      "source": [],
      "metadata": {
        "id": "sI9BjGG_AQwS"
      },
      "execution_count": null,
      "outputs": []
    },
    {
      "cell_type": "code",
      "execution_count": 1,
      "metadata": {
        "colab": {
          "base_uri": "https://localhost:8080/"
        },
        "id": "AnZOPYtnhBjS",
        "outputId": "4f019be8-c488-4eb4-e7de-3fe8523bef56"
      },
      "outputs": [
        {
          "output_type": "stream",
          "name": "stdout",
          "text": [
            "jena_climate_2009_2016.csv.zip unzipped successfully.\n"
          ]
        }
      ],
      "source": [
        "import os\n",
        "import zipfile\n",
        "import urllib.request\n",
        "\n",
        "\n",
        "url = \"https://s3.amazonaws.com/keras-datasets/jena_climate_2009_2016.csv.zip\"\n",
        "filename = \"jena_climate_2009_2016.csv.zip\"\n",
        "unzipped_filename = \"jena_climate_2009_2016.csv\"\n",
        "\n",
        "\n",
        "if not os.path.exists(filename):\n",
        "    # File doesn't exist, download it\n",
        "    urllib.request.urlretrieve(url, filename)\n",
        "\n",
        "if os.path.exists(filename):\n",
        "    with zipfile.ZipFile(filename, 'r') as zip_ref:\n",
        "        zip_ref.extractall()\n",
        "        print(f\"{filename} unzipped successfully.\")\n",
        "else:\n",
        "    print(\"File not found and could not be downloaded.\")"
      ]
    },
    {
      "cell_type": "markdown",
      "metadata": {
        "id": "HtDdf5sChBjT"
      },
      "source": [
        "**Inspecting the data of the Jena weather dataset**"
      ]
    },
    {
      "cell_type": "code",
      "execution_count": 2,
      "metadata": {
        "colab": {
          "base_uri": "https://localhost:8080/"
        },
        "id": "34zHxwDlhBjV",
        "outputId": "ad7aac42-9f27-4fb0-862f-5809d4c40a54"
      },
      "outputs": [
        {
          "output_type": "stream",
          "name": "stdout",
          "text": [
            "['\"Date Time\"', '\"p (mbar)\"', '\"T (degC)\"', '\"Tpot (K)\"', '\"Tdew (degC)\"', '\"rh (%)\"', '\"VPmax (mbar)\"', '\"VPact (mbar)\"', '\"VPdef (mbar)\"', '\"sh (g/kg)\"', '\"H2OC (mmol/mol)\"', '\"rho (g/m**3)\"', '\"wv (m/s)\"', '\"max. wv (m/s)\"', '\"wd (deg)\"']\n",
            "420451\n"
          ]
        }
      ],
      "source": [
        "import os\n",
        "fname = os.path.join(\"jena_climate_2009_2016.csv\")\n",
        "\n",
        "with open(fname) as f:\n",
        "    data = f.read()\n",
        "\n",
        "lines = data.split(\"\\n\")\n",
        "header = lines[0].split(\",\")\n",
        "lines = lines[1:]\n",
        "print(header)\n",
        "print(len(lines))"
      ]
    },
    {
      "cell_type": "markdown",
      "metadata": {
        "id": "8mMjjLzwhBjW"
      },
      "source": [
        "**Parsing the data**"
      ]
    },
    {
      "cell_type": "code",
      "execution_count": 3,
      "metadata": {
        "id": "D6of8Jr-hBjW"
      },
      "outputs": [],
      "source": [
        "import numpy as np\n",
        "temperature = np.zeros((len(lines),))\n",
        "raw_data = np.zeros((len(lines), len(header) - 1))\n",
        "for i, line in enumerate(lines):\n",
        "    values = [float(x) for x in line.split(\",\")[1:]]\n",
        "    temperature[i] = values[1]\n",
        "    raw_data[i, :] = values[:]"
      ]
    },
    {
      "cell_type": "markdown",
      "metadata": {
        "id": "VjR5YdizhBjX"
      },
      "source": [
        "**Plotting the temperature timeseries**"
      ]
    },
    {
      "cell_type": "code",
      "execution_count": 4,
      "metadata": {
        "colab": {
          "base_uri": "https://localhost:8080/",
          "height": 451
        },
        "id": "qsDKkRrZhBjX",
        "outputId": "ce584bf8-d827-49aa-9c6d-1c222de99aa7"
      },
      "outputs": [
        {
          "output_type": "execute_result",
          "data": {
            "text/plain": [
              "[<matplotlib.lines.Line2D at 0x7cfd35e2dd50>]"
            ]
          },
          "metadata": {},
          "execution_count": 4
        },
        {
          "output_type": "display_data",
          "data": {
            "text/plain": [
              "<Figure size 640x480 with 1 Axes>"
            ],
            "image/png": "[encoded data removed]"
          },
          "metadata": {}
        }
      ],
      "source": [
        "from matplotlib import pyplot as plt\n",
        "plt.plot(range(len(temperature)), temperature)"
      ]
    },
    {
      "cell_type": "markdown",
      "metadata": {
        "id": "rgbh9l9FhBjY"
      },
      "source": [
        "**Plotting the first 10 days of the temperature timeseries**"
      ]
    },
    {
      "cell_type": "code",
      "execution_count": 5,
      "metadata": {
        "colab": {
          "base_uri": "https://localhost:8080/",
          "height": 447
        },
        "id": "FetU7xo7hBjY",
        "outputId": "53bfdc3b-dcb0-409b-af89-97c542912a72"
      },
      "outputs": [
        {
          "output_type": "execute_result",
          "data": {
            "text/plain": [
              "[<matplotlib.lines.Line2D at 0x7cfd0c63c1f0>]"
            ]
          },
          "metadata": {},
          "execution_count": 5
        },
        {
          "output_type": "display_data",
          "data": {
            "text/plain": [
              "<Figure size 640x480 with 1 Axes>"
            ],
            "image/png": "[encoded data removed]"
          },
          "metadata": {}
        }
      ],
      "source": [
        "plt.plot(range(1440), temperature[:1440])"
      ]
    },
    {
      "cell_type": "markdown",
      "metadata": {
        "id": "86i7z67_hBjZ"
      },
      "source": [
        "**Computing the number of samples we'll use for each data split**"
      ]
    },
    {
      "cell_type": "code",
      "execution_count": 6,
      "metadata": {
        "colab": {
          "base_uri": "https://localhost:8080/"
        },
        "id": "ba_Z8JjyhBjZ",
        "outputId": "bc6b342a-af22-4b4a-cf1e-5c9255611ad4"
      },
      "outputs": [
        {
          "output_type": "stream",
          "name": "stdout",
          "text": [
            "num_train_samples: 210225\n",
            "num_val_samples: 105112\n",
            "num_test_samples: 105114\n"
          ]
        }
      ],
      "source": [
        "num_train_samples = int(0.5 * len(raw_data))\n",
        "num_val_samples = int(0.25 * len(raw_data))\n",
        "num_test_samples = len(raw_data) - num_train_samples - num_val_samples\n",
        "print(\"num_train_samples:\", num_train_samples)\n",
        "print(\"num_val_samples:\", num_val_samples)\n",
        "print(\"num_test_samples:\", num_test_samples)"
      ]
    },
    {
      "cell_type": "markdown",
      "metadata": {
        "id": "1zleGjbihBjZ"
      },
      "source": [
        "### Preparing the data"
      ]
    },
    {
      "cell_type": "markdown",
      "metadata": {
        "id": "fScQ32y7hBja"
      },
      "source": [
        "**Normalizing the data**"
      ]
    },
    {
      "cell_type": "code",
      "execution_count": 7,
      "metadata": {
        "id": "kS97HsT4hBja"
      },
      "outputs": [],
      "source": [
        "mean = raw_data[:num_train_samples].mean(axis=0)\n",
        "raw_data -= mean\n",
        "std = raw_data[:num_train_samples].std(axis=0)\n",
        "raw_data /= std"
      ]
    },
    {
      "cell_type": "code",
      "execution_count": 8,
      "metadata": {
        "colab": {
          "base_uri": "https://localhost:8080/"
        },
        "id": "yi90P-2ChBja",
        "outputId": "7b72afb9-cb8d-4cd5-da1f-1f010626979c"
      },
      "outputs": [
        {
          "output_type": "stream",
          "name": "stdout",
          "text": [
            "[0, 1, 2] 3\n",
            "[1, 2, 3] 4\n",
            "[2, 3, 4] 5\n",
            "[3, 4, 5] 6\n",
            "[4, 5, 6] 7\n"
          ]
        }
      ],
      "source": [
        "import numpy as np\n",
        "from tensorflow import keras\n",
        "int_sequence = np.arange(10)\n",
        "dummy_dataset = keras.utils.timeseries_dataset_from_array(\n",
        "    data=int_sequence[:-3],\n",
        "    targets=int_sequence[3:],\n",
        "    sequence_length=3,\n",
        "    batch_size=2,\n",
        ")\n",
        "\n",
        "for inputs, targets in dummy_dataset:\n",
        "    for i in range(inputs.shape[0]):\n",
        "        print([int(x) for x in inputs[i]], int(targets[i]))"
      ]
    },
    {
      "cell_type": "markdown",
      "metadata": {
        "id": "tXtNzOV9hBjb"
      },
      "source": [
        "**Instantiating datasets for training, validation, and testing**"
      ]
    },
    {
      "cell_type": "code",
      "execution_count": 9,
      "metadata": {
        "id": "5_I-wF4PhBjb"
      },
      "outputs": [],
      "source": [
        "sampling_rate = 6\n",
        "sequence_length = 120\n",
        "delay = sampling_rate * (sequence_length + 24 - 1)\n",
        "batch_size = 256\n",
        "\n",
        "train_dataset = keras.utils.timeseries_dataset_from_array(\n",
        "    raw_data[:-delay],\n",
        "    targets=temperature[delay:],\n",
        "    sampling_rate=sampling_rate,\n",
        "    sequence_length=sequence_length,\n",
        "    shuffle=True,\n",
        "    batch_size=batch_size,\n",
        "    start_index=0,\n",
        "    end_index=num_train_samples)\n",
        "\n",
        "val_dataset = keras.utils.timeseries_dataset_from_array(\n",
        "    raw_data[:-delay],\n",
        "    targets=temperature[delay:],\n",
        "    sampling_rate=sampling_rate,\n",
        "    sequence_length=sequence_length,\n",
        "    shuffle=True,\n",
        "    batch_size=batch_size,\n",
        "    start_index=num_train_samples,\n",
        "    end_index=num_train_samples + num_val_samples)\n",
        "\n",
        "test_dataset = keras.utils.timeseries_dataset_from_array(\n",
        "    raw_data[:-delay],\n",
        "    targets=temperature[delay:],\n",
        "    sampling_rate=sampling_rate,\n",
        "    sequence_length=sequence_length,\n",
        "    shuffle=True,\n",
        "    batch_size=batch_size,\n",
        "    start_index=num_train_samples + num_val_samples)"
      ]
    },
    {
      "cell_type": "markdown",
      "metadata": {
        "id": "rrbyXQPrhBjb"
      },
      "source": [
        "**Inspecting the output of one of our datasets**"
      ]
    },
    {
      "cell_type": "code",
      "execution_count": 10,
      "metadata": {
        "colab": {
          "base_uri": "https://localhost:8080/"
        },
        "id": "BZn2z2mqhBjb",
        "outputId": "271ad493-f7c8-4803-9514-95a00a8dfc2f"
      },
      "outputs": [
        {
          "output_type": "stream",
          "name": "stdout",
          "text": [
            "samples shape: (256, 120, 14)\n",
            "targets shape: (256,)\n"
          ]
        }
      ],
      "source": [
        "for samples, targets in train_dataset:\n",
        "    print(\"samples shape:\", samples.shape)\n",
        "    print(\"targets shape:\", targets.shape)\n",
        "    break"
      ]
    },
    {
      "cell_type": "markdown",
      "metadata": {
        "id": "FTPhtg9ChBjc"
      },
      "source": [
        "### A common-sense, non-machine-learning baseline"
      ]
    },
    {
      "cell_type": "markdown",
      "metadata": {
        "id": "k1y2_eNZhBjc"
      },
      "source": [
        "**Computing the common-sense baseline MAE**"
      ]
    },
    {
      "cell_type": "code",
      "execution_count": 11,
      "metadata": {
        "colab": {
          "base_uri": "https://localhost:8080/"
        },
        "id": "0PXdwyyJhBjc",
        "outputId": "2dc63dcf-e634-400b-ea97-d92802f984e1"
      },
      "outputs": [
        {
          "output_type": "stream",
          "name": "stdout",
          "text": [
            "Validation MAE: 2.44\n",
            "Test MAE: 2.62\n"
          ]
        }
      ],
      "source": [
        "def evaluate_naive_method(dataset):\n",
        "    total_abs_err = 0.\n",
        "    samples_seen = 0\n",
        "    for samples, targets in dataset:\n",
        "        preds = samples[:, -1, 1] * std[1] + mean[1]\n",
        "        total_abs_err += np.sum(np.abs(preds - targets))\n",
        "        samples_seen += samples.shape[0]\n",
        "    return total_abs_err / samples_seen\n",
        "\n",
        "print(f\"Validation MAE: {evaluate_naive_method(val_dataset):.2f}\")\n",
        "print(f\"Test MAE: {evaluate_naive_method(test_dataset):.2f}\")"
      ]
    },
    {
      "cell_type": "markdown",
      "metadata": {
        "id": "cHTgKRlUhBjc"
      },
      "source": [
        "### Let's try a basic machine-learning model"
      ]
    },
    {
      "cell_type": "markdown",
      "metadata": {
        "id": "ge0aMLEqhBjd"
      },
      "source": [
        "**Training and evaluating a densely connected model**"
      ]
    },
    {
      "cell_type": "code",
      "execution_count": null,
      "metadata": {
        "colab": {
          "background_save": true,
          "base_uri": "https://localhost:8080/"
        },
        "id": "PzktALAghBjd",
        "outputId": "d46afb4b-65c6-4ce7-dd35-9501c1d26929"
      },
      "outputs": [
        {
          "output_type": "stream",
          "name": "stdout",
          "text": [
            "Epoch 1/10\n",
            "819/819 [==============================] - 51s 59ms/step - loss: 13.3801 - mae: 2.8271 - val_loss: 12.3076 - val_mae: 2.7745\n",
            "Epoch 2/10\n",
            "819/819 [==============================] - 40s 48ms/step - loss: 9.3154 - mae: 2.4048 - val_loss: 10.6590 - val_mae: 2.5681\n",
            "Epoch 3/10\n",
            "819/819 [==============================] - 41s 50ms/step - loss: 8.6406 - mae: 2.3151 - val_loss: 12.2860 - val_mae: 2.7554\n",
            "Epoch 4/10\n",
            "819/819 [==============================] - 40s 48ms/step - loss: 8.1197 - mae: 2.2449 - val_loss: 10.9701 - val_mae: 2.6160\n",
            "Epoch 5/10\n",
            "819/819 [==============================] - 47s 58ms/step - loss: 7.7601 - mae: 2.1972 - val_loss: 10.9551 - val_mae: 2.6111\n",
            "Epoch 6/10\n",
            "341/819 [===========>..................] - ETA: 14s - loss: 7.5394 - mae: 2.1665"
          ]
        }
      ],
      "source": [
        "from tensorflow import keras\n",
        "from tensorflow.keras import layers\n",
        "\n",
        "inputs = keras.Input(shape=(sequence_length, raw_data.shape[-1]))\n",
        "x = layers.Flatten()(inputs)\n",
        "x = layers.Dense(16, activation=\"relu\")(x)\n",
        "outputs = layers.Dense(1)(x)\n",
        "model = keras.Model(inputs, outputs)\n",
        "\n",
        "callbacks = [\n",
        "    keras.callbacks.ModelCheckpoint(\"jena_dense.keras\",\n",
        "                                    save_best_only=True)\n",
        "]\n",
        "model.compile(optimizer=\"rmsprop\", loss=\"mse\", metrics=[\"mae\"])\n",
        "history = model.fit(train_dataset,\n",
        "                    epochs=10,\n",
        "                    validation_data=val_dataset,\n",
        "                    callbacks=callbacks)\n",
        "\n",
        "model = keras.models.load_model(\"jena_dense.keras\")\n",
        "print(f\"Test MAE: {model.evaluate(test_dataset)[1]:.2f}\")"
      ]
    },
    {
      "cell_type": "markdown",
      "metadata": {
        "id": "jrJ2E8_ShBjd"
      },
      "source": [
        "**Plotting results**"
      ]
    },
    {
      "cell_type": "code",
      "execution_count": null,
      "metadata": {
        "colab": {
          "background_save": true
        },
        "id": "gPFUC2e5hBjd",
        "outputId": "8dae4aed-9fc6-4f79-96bb-e41bb75a2475"
      },
      "outputs": [
        {
          "data": {
            "image/png": "[encoded data removed]",
            "text/plain": [
              "<Figure size 432x288 with 1 Axes>"
            ]
          },
          "metadata": {
            "needs_background": "light"
          },
          "output_type": "display_data"
        }
      ],
      "source": [
        "import matplotlib.pyplot as plt\n",
        "loss = history.history[\"mae\"]\n",
        "val_loss = history.history[\"val_mae\"]\n",
        "epochs = range(1, len(loss) + 1)\n",
        "plt.figure()\n",
        "plt.plot(epochs, loss, \"bo\", label=\"Training MAE\")\n",
        "plt.plot(epochs, val_loss, \"b\", label=\"Validation MAE\")\n",
        "plt.title(\"Training and validation MAE\")\n",
        "plt.legend()\n",
        "plt.show()"
      ]
    },
    {
      "cell_type": "markdown",
      "metadata": {
        "id": "d6jsWwGGhBje"
      },
      "source": [
        "### Let's try a 1D convolutional model"
      ]
    },
    {
      "cell_type": "code",
      "execution_count": null,
      "metadata": {
        "id": "mH5_vKlfhBje",
        "outputId": "85750547-b738-4005-ff42-9b5b26a4a9ae"
      },
      "outputs": [
        {
          "name": "stdout",
          "output_type": "stream",
          "text": [
            "Epoch 1/10\n",
            "819/819 [==============================] - 26s 31ms/step - loss: 22.2297 - mae: 3.6879 - val_loss: 18.5067 - val_mae: 3.4575\n",
            "Epoch 2/10\n",
            "819/819 [==============================] - 26s 32ms/step - loss: 15.5387 - mae: 3.1292 - val_loss: 15.9798 - val_mae: 3.1802\n",
            "Epoch 3/10\n",
            "819/819 [==============================] - 24s 30ms/step - loss: 14.5538 - mae: 3.0169 - val_loss: 14.8220 - val_mae: 3.0354\n",
            "Epoch 4/10\n",
            "819/819 [==============================] - 25s 31ms/step - loss: 13.8255 - mae: 2.9324 - val_loss: 15.1413 - val_mae: 3.0631\n",
            "Epoch 5/10\n",
            "819/819 [==============================] - 25s 30ms/step - loss: 13.3088 - mae: 2.8745 - val_loss: 15.0597 - val_mae: 3.0559\n",
            "Epoch 6/10\n",
            "819/819 [==============================] - 25s 30ms/step - loss: 12.8408 - mae: 2.8238 - val_loss: 16.0358 - val_mae: 3.1556\n",
            "Epoch 7/10\n",
            "819/819 [==============================] - 25s 31ms/step - loss: 12.4231 - mae: 2.7772 - val_loss: 16.1009 - val_mae: 3.1414\n",
            "Epoch 8/10\n",
            "819/819 [==============================] - 25s 31ms/step - loss: 12.0914 - mae: 2.7400 - val_loss: 17.2836 - val_mae: 3.2577\n",
            "Epoch 9/10\n",
            "819/819 [==============================] - 25s 30ms/step - loss: 11.7430 - mae: 2.7013 - val_loss: 16.3665 - val_mae: 3.1654\n",
            "Epoch 10/10\n",
            "819/819 [==============================] - 25s 30ms/step - loss: 11.4317 - mae: 2.6671 - val_loss: 15.3121 - val_mae: 3.0734\n",
            "405/405 [==============================] - 4s 10ms/step - loss: 16.6760 - mae: 3.2124\n",
            "Test MAE: 3.21\n"
          ]
        }
      ],
      "source": [
        "inputs = keras.Input(shape=(sequence_length, raw_data.shape[-1]))\n",
        "x = layers.Conv1D(8, 24, activation=\"relu\")(inputs)\n",
        "x = layers.MaxPooling1D(2)(x)\n",
        "x = layers.Conv1D(8, 12, activation=\"relu\")(x)\n",
        "x = layers.MaxPooling1D(2)(x)\n",
        "x = layers.Conv1D(8, 6, activation=\"relu\")(x)\n",
        "x = layers.GlobalAveragePooling1D()(x)\n",
        "outputs = layers.Dense(1)(x)\n",
        "model = keras.Model(inputs, outputs)\n",
        "\n",
        "callbacks = [\n",
        "    keras.callbacks.ModelCheckpoint(\"jena_conv.keras\",\n",
        "                                    save_best_only=True)\n",
        "]\n",
        "model.compile(optimizer=\"rmsprop\", loss=\"mse\", metrics=[\"mae\"])\n",
        "history = model.fit(train_dataset,\n",
        "                    epochs=10,\n",
        "                    validation_data=val_dataset,\n",
        "                    callbacks=callbacks)\n",
        "\n",
        "model = keras.models.load_model(\"jena_conv.keras\")\n",
        "print(f\"Test MAE: {model.evaluate(test_dataset)[1]:.2f}\")"
      ]
    },
    {
      "cell_type": "markdown",
      "metadata": {
        "id": "1xO8YEPdAJOe"
      },
      "source": [
        "**Plotting results**"
      ]
    },
    {
      "cell_type": "code",
      "execution_count": null,
      "metadata": {
        "id": "caC7p7UG0zk1",
        "tags": [],
        "outputId": "486e8cb1-48d6-4ecc-cb94-9eabd98f494e"
      },
      "outputs": [
        {
          "data": {
            "image/png": "[encoded data removed]",
            "text/plain": [
              "<Figure size 432x288 with 1 Axes>"
            ]
          },
          "metadata": {
            "needs_background": "light"
          },
          "output_type": "display_data"
        }
      ],
      "source": [
        "loss = history.history[\"mae\"]\n",
        "val_loss = history.history[\"val_mae\"]\n",
        "epochs = range(1, len(loss) + 1)\n",
        "plt.figure()\n",
        "plt.plot(epochs, loss, \"bo\", label=\"Training MAE\")\n",
        "plt.plot(epochs, val_loss, \"b\", label=\"Validation MAE\")\n",
        "plt.title(\"Training and validation MAE\")\n",
        "plt.legend()\n",
        "plt.show()"
      ]
    },
    {
      "cell_type": "markdown",
      "metadata": {
        "id": "oyix9ZHGhBje"
      },
      "source": [
        "### A first recurrent baseline"
      ]
    },
    {
      "cell_type": "markdown",
      "metadata": {
        "id": "S5sXPJz3hBjf"
      },
      "source": [
        "**A simple LSTM-based model with Dense 16**"
      ]
    },
    {
      "cell_type": "code",
      "execution_count": null,
      "metadata": {
        "id": "ODTcVmTqhBjf",
        "outputId": "12e554b7-316c-44f3-db4c-a68e17ca9cc8"
      },
      "outputs": [
        {
          "name": "stdout",
          "output_type": "stream",
          "text": [
            "Epoch 1/10\n",
            "819/819 [==============================] - 39s 46ms/step - loss: 38.2989 - mae: 4.4968 - val_loss: 11.7446 - val_mae: 2.6135\n",
            "Epoch 2/10\n",
            "819/819 [==============================] - 38s 47ms/step - loss: 10.6044 - mae: 2.5282 - val_loss: 9.7137 - val_mae: 2.4335\n",
            "Epoch 3/10\n",
            "819/819 [==============================] - 42s 51ms/step - loss: 9.6890 - mae: 2.4220 - val_loss: 9.6833 - val_mae: 2.4291\n",
            "Epoch 4/10\n",
            "819/819 [==============================] - 40s 49ms/step - loss: 9.3044 - mae: 2.3709 - val_loss: 9.4734 - val_mae: 2.3966\n",
            "Epoch 5/10\n",
            "819/819 [==============================] - 35s 43ms/step - loss: 8.9471 - mae: 2.3250 - val_loss: 9.7920 - val_mae: 2.4375\n",
            "Epoch 6/10\n",
            "819/819 [==============================] - 33s 40ms/step - loss: 8.6403 - mae: 2.2875 - val_loss: 9.9809 - val_mae: 2.4515\n",
            "Epoch 7/10\n",
            "819/819 [==============================] - 38s 46ms/step - loss: 8.3882 - mae: 2.2524 - val_loss: 10.1379 - val_mae: 2.4777\n",
            "Epoch 8/10\n",
            "819/819 [==============================] - 36s 43ms/step - loss: 8.2070 - mae: 2.2273 - val_loss: 9.8899 - val_mae: 2.4517\n",
            "Epoch 9/10\n",
            "819/819 [==============================] - 34s 42ms/step - loss: 8.0527 - mae: 2.2051 - val_loss: 9.9484 - val_mae: 2.4567\n",
            "Epoch 10/10\n",
            "819/819 [==============================] - 39s 47ms/step - loss: 7.9103 - mae: 2.1849 - val_loss: 9.9955 - val_mae: 2.4651\n",
            "405/405 [==============================] - 6s 14ms/step - loss: 10.7220 - mae: 2.5758\n",
            "Test MAE: 2.58\n"
          ]
        }
      ],
      "source": [
        "inputs = keras.Input(shape=(sequence_length, raw_data.shape[-1]))\n",
        "x = layers.LSTM(16)(inputs)\n",
        "outputs = layers.Dense(1)(x)\n",
        "model = keras.Model(inputs, outputs)\n",
        "\n",
        "callbacks = [\n",
        "    keras.callbacks.ModelCheckpoint(\"jena_lstm.keras\",\n",
        "                                    save_best_only=True)\n",
        "]\n",
        "model.compile(optimizer=\"rmsprop\", loss=\"mse\", metrics=[\"mae\"])\n",
        "history = model.fit(train_dataset,\n",
        "                    epochs=10,\n",
        "                    validation_data=val_dataset,\n",
        "                    callbacks=callbacks)\n",
        "\n",
        "model = keras.models.load_model(\"jena_lstm.keras\")\n",
        "print(f\"Test MAE: {model.evaluate(test_dataset)[1]:.2f}\")"
      ]
    },
    {
      "cell_type": "markdown",
      "metadata": {
        "id": "7Sn599aZAJOf"
      },
      "source": [
        "**Plotting results**"
      ]
    },
    {
      "cell_type": "code",
      "execution_count": null,
      "metadata": {
        "id": "qoB_XarY04we",
        "outputId": "b7fab435-a8d1-4d3e-e2d3-afb4aadd5120"
      },
      "outputs": [
        {
          "data": {
            "image/png": "[encoded data removed]",
            "text/plain": [
              "<Figure size 432x288 with 1 Axes>"
            ]
          },
          "metadata": {
            "needs_background": "light"
          },
          "output_type": "display_data"
        }
      ],
      "source": [
        "loss = history.history[\"mae\"]\n",
        "val_loss = history.history[\"val_mae\"]\n",
        "epochs = range(1, len(loss) + 1)\n",
        "plt.figure()\n",
        "plt.plot(epochs, loss, \"bo\", label=\"Training MAE\")\n",
        "plt.plot(epochs, val_loss, \"b\", label=\"Validation MAE\")\n",
        "plt.title(\"Training and validation MAE\")\n",
        "plt.legend()\n",
        "plt.show()"
      ]
    },
    {
      "cell_type": "markdown",
      "metadata": {
        "id": "aYiA6P2YEOuP"
      },
      "source": [
        "**A simple LSTM-based model with Dense 32**"
      ]
    },
    {
      "cell_type": "code",
      "execution_count": null,
      "metadata": {
        "id": "oV6kKJGvhSE6",
        "outputId": "210e0dff-57e9-4c76-86ce-fb722965df0e"
      },
      "outputs": [
        {
          "name": "stdout",
          "output_type": "stream",
          "text": [
            "Epoch 1/10\n",
            "819/819 [==============================] - 53s 63ms/step - loss: 21.3527 - mae: 3.3218 - val_loss: 9.8108 - val_mae: 2.4120\n",
            "Epoch 2/10\n",
            "819/819 [==============================] - 49s 60ms/step - loss: 8.9880 - mae: 2.3441 - val_loss: 9.7837 - val_mae: 2.4170\n",
            "Epoch 3/10\n",
            "819/819 [==============================] - 52s 63ms/step - loss: 8.1463 - mae: 2.2268 - val_loss: 10.0707 - val_mae: 2.4476\n",
            "Epoch 4/10\n",
            "819/819 [==============================] - 49s 59ms/step - loss: 7.6097 - mae: 2.1503 - val_loss: 10.1339 - val_mae: 2.4689\n",
            "Epoch 5/10\n",
            "819/819 [==============================] - 45s 55ms/step - loss: 7.2168 - mae: 2.0931 - val_loss: 10.6482 - val_mae: 2.5399\n",
            "Epoch 6/10\n",
            "819/819 [==============================] - 50s 61ms/step - loss: 6.8485 - mae: 2.0384 - val_loss: 10.9769 - val_mae: 2.5736\n",
            "Epoch 7/10\n",
            "819/819 [==============================] - 51s 62ms/step - loss: 6.5607 - mae: 1.9946 - val_loss: 10.9052 - val_mae: 2.5698\n",
            "Epoch 8/10\n",
            "819/819 [==============================] - 53s 64ms/step - loss: 6.2840 - mae: 1.9494 - val_loss: 11.3172 - val_mae: 2.6218\n",
            "Epoch 9/10\n",
            "819/819 [==============================] - 48s 58ms/step - loss: 6.1162 - mae: 1.9204 - val_loss: 11.4476 - val_mae: 2.6360\n",
            "Epoch 10/10\n",
            "819/819 [==============================] - 52s 64ms/step - loss: 5.8782 - mae: 1.8862 - val_loss: 11.5579 - val_mae: 2.6349\n",
            "405/405 [==============================] - 9s 21ms/step - loss: 10.8352 - mae: 2.5802\n",
            "Test MAE: 2.58\n"
          ]
        }
      ],
      "source": [
        "inputs = keras.Input(shape=(sequence_length, raw_data.shape[-1]))\n",
        "x = layers.LSTM(32)(inputs)\n",
        "outputs = layers.Dense(1)(x)\n",
        "model = keras.Model(inputs, outputs)\n",
        "\n",
        "callbacks = [\n",
        "    keras.callbacks.ModelCheckpoint(\"jena_lstm.keras\",\n",
        "                                    save_best_only=True)\n",
        "]\n",
        "model.compile(optimizer=\"rmsprop\", loss=\"mse\", metrics=[\"mae\"])\n",
        "history = model.fit(train_dataset,\n",
        "                    epochs=10,\n",
        "                    validation_data=val_dataset,\n",
        "                    callbacks=callbacks)\n",
        "\n",
        "model = keras.models.load_model(\"jena_lstm.keras\")\n",
        "print(f\"Test MAE: {model.evaluate(test_dataset)[1]:.2f}\")"
      ]
    },
    {
      "cell_type": "markdown",
      "metadata": {
        "id": "wQrzK77DAJOg"
      },
      "source": [
        "**Plotting results**"
      ]
    },
    {
      "cell_type": "code",
      "execution_count": null,
      "metadata": {
        "id": "XL2QEn8W06qY",
        "outputId": "af7e92d4-df7b-4953-cc18-c99f9a9862e4"
      },
      "outputs": [
        {
          "data": {
            "image/png": "[encoded data removed]",
            "text/plain": [
              "<Figure size 432x288 with 1 Axes>"
            ]
          },
          "metadata": {
            "needs_background": "light"
          },
          "output_type": "display_data"
        }
      ],
      "source": [
        "loss = history.history[\"mae\"]\n",
        "val_loss = history.history[\"val_mae\"]\n",
        "epochs = range(1, len(loss) + 1)\n",
        "plt.figure()\n",
        "plt.plot(epochs, loss, \"bo\", label=\"Training MAE\")\n",
        "plt.plot(epochs, val_loss, \"b\", label=\"Validation MAE\")\n",
        "plt.title(\"Training and validation MAE\")\n",
        "plt.legend()\n",
        "plt.show()"
      ]
    },
    {
      "cell_type": "markdown",
      "metadata": {
        "id": "hjfTrsG1ERYx"
      },
      "source": [
        "**A simple LSTM-based model with Dense 64**"
      ]
    },
    {
      "cell_type": "code",
      "execution_count": null,
      "metadata": {
        "id": "T3amnJFP1Mt4",
        "outputId": "5f19f56c-6c10-42c2-fa3b-9f2fa0532c6c"
      },
      "outputs": [
        {
          "name": "stdout",
          "output_type": "stream",
          "text": [
            "Epoch 1/10\n",
            "819/819 [==============================] - 93s 112ms/step - loss: 14.5536 - mae: 2.8049 - val_loss: 9.9137 - val_mae: 2.4759\n",
            "Epoch 2/10\n",
            "819/819 [==============================] - 89s 108ms/step - loss: 7.7493 - mae: 2.1727 - val_loss: 10.1414 - val_mae: 2.4989\n",
            "Epoch 3/10\n",
            "819/819 [==============================] - 88s 108ms/step - loss: 6.2542 - mae: 1.9440 - val_loss: 10.9031 - val_mae: 2.6124\n",
            "Epoch 4/10\n",
            "819/819 [==============================] - 90s 110ms/step - loss: 5.2248 - mae: 1.7715 - val_loss: 11.1763 - val_mae: 2.6323\n",
            "Epoch 5/10\n",
            "819/819 [==============================] - 90s 110ms/step - loss: 4.5190 - mae: 1.6425 - val_loss: 11.4128 - val_mae: 2.6603\n",
            "Epoch 6/10\n",
            "819/819 [==============================] - 89s 108ms/step - loss: 3.9307 - mae: 1.5256 - val_loss: 12.1055 - val_mae: 2.7367\n",
            "Epoch 7/10\n",
            "819/819 [==============================] - 88s 108ms/step - loss: 3.4888 - mae: 1.4369 - val_loss: 12.0399 - val_mae: 2.7393\n",
            "Epoch 8/10\n",
            "819/819 [==============================] - 90s 110ms/step - loss: 3.1740 - mae: 1.3663 - val_loss: 13.1740 - val_mae: 2.8487\n",
            "Epoch 9/10\n",
            "819/819 [==============================] - 89s 108ms/step - loss: 2.8710 - mae: 1.3008 - val_loss: 12.6051 - val_mae: 2.7958\n",
            "Epoch 10/10\n",
            "819/819 [==============================] - 90s 110ms/step - loss: 2.6069 - mae: 1.2370 - val_loss: 12.9789 - val_mae: 2.8371\n",
            "405/405 [==============================] - 17s 40ms/step - loss: 12.7425 - mae: 2.7018\n",
            "Test MAE: 2.70\n"
          ]
        }
      ],
      "source": [
        "inputs = keras.Input(shape=(sequence_length, raw_data.shape[-1]))\n",
        "x = layers.LSTM(64)(inputs)\n",
        "outputs = layers.Dense(1)(x)\n",
        "model = keras.Model(inputs, outputs)\n",
        "\n",
        "callbacks = [\n",
        "    keras.callbacks.ModelCheckpoint(\"jena_lstm.keras\",\n",
        "                                    save_best_only=True)\n",
        "]\n",
        "model.compile(optimizer=\"rmsprop\", loss=\"mse\", metrics=[\"mae\"])\n",
        "history = model.fit(train_dataset,\n",
        "                    epochs=10,\n",
        "                    validation_data=val_dataset,\n",
        "                    callbacks=callbacks)\n",
        "\n",
        "model = keras.models.load_model(\"jena_lstm.keras\")\n",
        "print(f\"Test MAE: {model.evaluate(test_dataset)[1]:.2f}\")"
      ]
    },
    {
      "cell_type": "markdown",
      "metadata": {
        "id": "Imh8jNHEAJOg"
      },
      "source": [
        "**Plotting results**"
      ]
    },
    {
      "cell_type": "code",
      "execution_count": null,
      "metadata": {
        "id": "Jwci5vR01QbM",
        "outputId": "f24d1f79-f1f4-42f8-a37c-66a1c3e0b9a8"
      },
      "outputs": [
        {
          "data": {
            "image/png": "[encoded data removed]",
            "text/plain": [
              "<Figure size 432x288 with 1 Axes>"
            ]
          },
          "metadata": {
            "needs_background": "light"
          },
          "output_type": "display_data"
        }
      ],
      "source": [
        "loss = history.history[\"mae\"]\n",
        "val_loss = history.history[\"val_mae\"]\n",
        "epochs = range(1, len(loss) + 1)\n",
        "plt.figure()\n",
        "plt.plot(epochs, loss, \"bo\", label=\"Training MAE\")\n",
        "plt.plot(epochs, val_loss, \"b\", label=\"Validation MAE\")\n",
        "plt.title(\"Training and validation MAE\")\n",
        "plt.legend()\n",
        "plt.show()"
      ]
    },
    {
      "cell_type": "markdown",
      "metadata": {
        "id": "66F9xfXahBjf"
      },
      "source": [
        "## Understanding recurrent neural networks"
      ]
    },
    {
      "cell_type": "markdown",
      "metadata": {
        "id": "sT8mB7mohBjg"
      },
      "source": [
        "**NumPy implementation of a simple RNN**"
      ]
    },
    {
      "cell_type": "code",
      "execution_count": null,
      "metadata": {
        "id": "FcVN9aeLhBjg"
      },
      "outputs": [],
      "source": [
        "import numpy as np\n",
        "timesteps = 100\n",
        "input_features = 32\n",
        "output_features = 64\n",
        "inputs = np.random.random((timesteps, input_features))\n",
        "state_t = np.zeros((output_features,))\n",
        "W = np.random.random((output_features, input_features))\n",
        "U = np.random.random((output_features, output_features))\n",
        "b = np.random.random((output_features,))\n",
        "successive_outputs = []\n",
        "for input_t in inputs:\n",
        "    output_t = np.tanh(np.dot(W, input_t) + np.dot(U, state_t) + b)\n",
        "    successive_outputs.append(output_t)\n",
        "    state_t = output_t\n",
        "final_output_sequence = np.stack(successive_outputs, axis=0)"
      ]
    },
    {
      "cell_type": "markdown",
      "metadata": {
        "id": "UnvWOKMVhBj2"
      },
      "source": [
        "### A recurrent layer in Keras"
      ]
    },
    {
      "cell_type": "markdown",
      "metadata": {
        "id": "CmroalDDhBj3"
      },
      "source": [
        "**An RNN layer that can process sequences of any length**"
      ]
    },
    {
      "cell_type": "code",
      "execution_count": null,
      "metadata": {
        "id": "iDvbdomwhBj3"
      },
      "outputs": [],
      "source": [
        "num_features = 14\n",
        "inputs = keras.Input(shape=(None, num_features))\n",
        "outputs = layers.SimpleRNN(16)(inputs)"
      ]
    },
    {
      "cell_type": "markdown",
      "metadata": {
        "id": "PO6oIne4hBj4"
      },
      "source": [
        "**An RNN layer that returns only its last output step**"
      ]
    },
    {
      "cell_type": "code",
      "execution_count": null,
      "metadata": {
        "id": "92HjqulVhBj4",
        "outputId": "dc24cf6f-18bc-4e92-ffcd-b65f2984ad8d"
      },
      "outputs": [
        {
          "name": "stdout",
          "output_type": "stream",
          "text": [
            "(None, 16)\n"
          ]
        }
      ],
      "source": [
        "num_features = 14\n",
        "steps = 120\n",
        "inputs = keras.Input(shape=(steps, num_features))\n",
        "outputs = layers.SimpleRNN(16, return_sequences=False)(inputs)\n",
        "print(outputs.shape)"
      ]
    },
    {
      "cell_type": "markdown",
      "metadata": {
        "id": "kRaVU9mlhBj5"
      },
      "source": [
        "**An RNN layer that returns its full output sequence**"
      ]
    },
    {
      "cell_type": "code",
      "execution_count": null,
      "metadata": {
        "id": "6sqw9TRbhBj5",
        "outputId": "b3c8c66c-e18a-4302-c147-fd77318f4849"
      },
      "outputs": [
        {
          "name": "stdout",
          "output_type": "stream",
          "text": [
            "(None, 120, 16)\n"
          ]
        }
      ],
      "source": [
        "num_features = 14\n",
        "steps = 120\n",
        "inputs = keras.Input(shape=(steps, num_features))\n",
        "outputs = layers.SimpleRNN(16, return_sequences=True)(inputs)\n",
        "print(outputs.shape)"
      ]
    },
    {
      "cell_type": "markdown",
      "metadata": {
        "id": "EI5tkzgVhBj6"
      },
      "source": [
        "**Stacking RNN layers**"
      ]
    },
    {
      "cell_type": "code",
      "execution_count": null,
      "metadata": {
        "id": "h-AqskWmhBj6"
      },
      "outputs": [],
      "source": [
        "inputs = keras.Input(shape=(steps, num_features))\n",
        "x = layers.SimpleRNN(16, return_sequences=True)(inputs)\n",
        "x = layers.SimpleRNN(16, return_sequences=True)(x)\n",
        "outputs = layers.SimpleRNN(16)(x)"
      ]
    },
    {
      "cell_type": "markdown",
      "metadata": {
        "id": "qo-Fb8nXhBj6"
      },
      "source": [
        "## Advanced use of recurrent neural networks"
      ]
    },
    {
      "cell_type": "markdown",
      "metadata": {
        "id": "xJiJjAgDhBj7"
      },
      "source": [
        "### Using recurrent dropout to fight overfitting"
      ]
    },
    {
      "cell_type": "markdown",
      "metadata": {
        "id": "_qO5a21lhBj7"
      },
      "source": [
        "**Training and evaluating a combination of 1d_Convnet and dropout-regularized LSTM**"
      ]
    },
    {
      "cell_type": "code",
      "execution_count": null,
      "metadata": {
        "id": "GdWQd_kbhBj7",
        "outputId": "3f579332-ec51-4527-e938-7e6cdd478863"
      },
      "outputs": [
        {
          "name": "stdout",
          "output_type": "stream",
          "text": [
            "Epoch 1/10\n",
            "819/819 [==============================] - 63s 74ms/step - loss: 16.9194 - mae: 3.1015 - val_loss: 10.3037 - val_mae: 2.5020\n",
            "Epoch 2/10\n",
            "819/819 [==============================] - 60s 73ms/step - loss: 11.1376 - mae: 2.5988 - val_loss: 9.8968 - val_mae: 2.4397\n",
            "Epoch 3/10\n",
            "819/819 [==============================] - 61s 74ms/step - loss: 9.7803 - mae: 2.4274 - val_loss: 10.2925 - val_mae: 2.5130\n",
            "Epoch 4/10\n",
            "819/819 [==============================] - 61s 75ms/step - loss: 8.7840 - mae: 2.2882 - val_loss: 10.6391 - val_mae: 2.5420\n",
            "Epoch 5/10\n",
            "819/819 [==============================] - 61s 75ms/step - loss: 8.0154 - mae: 2.1805 - val_loss: 11.1962 - val_mae: 2.6297\n",
            "Epoch 6/10\n",
            "819/819 [==============================] - 61s 74ms/step - loss: 7.4194 - mae: 2.0917 - val_loss: 11.8224 - val_mae: 2.7070\n",
            "Epoch 7/10\n",
            "819/819 [==============================] - 61s 74ms/step - loss: 6.9193 - mae: 2.0193 - val_loss: 11.8553 - val_mae: 2.6978\n",
            "Epoch 8/10\n",
            "819/819 [==============================] - 60s 73ms/step - loss: 6.5114 - mae: 1.9565 - val_loss: 12.2576 - val_mae: 2.7472\n",
            "Epoch 9/10\n",
            "819/819 [==============================] - 60s 74ms/step - loss: 6.2315 - mae: 1.9127 - val_loss: 12.2997 - val_mae: 2.7612\n",
            "Epoch 10/10\n",
            "819/819 [==============================] - 61s 74ms/step - loss: 5.9731 - mae: 1.8713 - val_loss: 12.8547 - val_mae: 2.7922\n",
            "405/405 [==============================] - 8s 19ms/step - loss: 10.9916 - mae: 2.6172\n",
            "Test MAE: 2.62\n"
          ]
        }
      ],
      "source": [
        "inputs = keras.Input(shape=(sequence_length, raw_data.shape[-1]))\n",
        "x = layers.Conv1D(32, 5, activation=\"relu\", padding=\"same\")(inputs)\n",
        "x = layers.MaxPooling1D(2)(x)\n",
        "x = layers.LSTM(64, recurrent_dropout=0.25)(x)\n",
        "x = layers.Dropout(0.5)(x)\n",
        "outputs = layers.Dense(1)(x)\n",
        "model = keras.Model(inputs, outputs)\n",
        "\n",
        "callbacks = [\n",
        "    keras.callbacks.ModelCheckpoint(\"jena_lstm_dropout.keras\",\n",
        "                                    save_best_only=True)\n",
        "]\n",
        "model.compile(optimizer=\"rmsprop\", loss=\"mse\", metrics=[\"mae\"])\n",
        "history = model.fit(train_dataset,\n",
        "                    epochs=10,\n",
        "                    validation_data=val_dataset,\n",
        "                    callbacks=callbacks)\n",
        "\n",
        "model = keras.models.load_model(\"jena_lstm_dropout.keras\")\n",
        "print(f\"Test MAE: {model.evaluate(test_dataset)[1]:.2f}\")"
      ]
    },
    {
      "cell_type": "markdown",
      "metadata": {
        "id": "yvUiJZoUAJOi"
      },
      "source": [
        "**Plotting results**"
      ]
    },
    {
      "cell_type": "code",
      "execution_count": null,
      "metadata": {
        "id": "_ujUwmu80-TY",
        "outputId": "f5032802-a8ae-44de-a512-81ae51b2b4ac"
      },
      "outputs": [
        {
          "data": {
            "image/png": "[encoded data removed]",
            "text/plain": [
              "<Figure size 432x288 with 1 Axes>"
            ]
          },
          "metadata": {
            "needs_background": "light"
          },
          "output_type": "display_data"
        }
      ],
      "source": [
        "loss = history.history[\"mae\"]\n",
        "val_loss = history.history[\"val_mae\"]\n",
        "epochs = range(1, len(loss) + 1)\n",
        "plt.figure()\n",
        "plt.plot(epochs, loss, \"bo\", label=\"Training MAE\")\n",
        "plt.plot(epochs, val_loss, \"b\", label=\"Validation MAE\")\n",
        "plt.title(\"Training and validation MAE\")\n",
        "plt.legend()\n",
        "plt.show()"
      ]
    },
    {
      "cell_type": "code",
      "execution_count": null,
      "metadata": {
        "id": "pEBa4u_ghBj8"
      },
      "outputs": [],
      "source": [
        "inputs = keras.Input(shape=(sequence_length, num_features))\n",
        "x = layers.LSTM(32, recurrent_dropout=0.2, unroll=True)(inputs)"
      ]
    },
    {
      "cell_type": "markdown",
      "metadata": {
        "id": "BoTtioDahBj8"
      },
      "source": [
        "### Stacking recurrent layers"
      ]
    },
    {
      "cell_type": "markdown",
      "metadata": {
        "id": "V5jeqVQMhBj8"
      },
      "source": [
        "**Training and evaluating a dropout-regularized, stacked LSTM model**"
      ]
    },
    {
      "cell_type": "code",
      "execution_count": null,
      "metadata": {
        "id": "tjjgKMwrhBj9",
        "outputId": "7336b3cd-af26-4d81-8f6c-f14c8da8f0e5"
      },
      "outputs": [
        {
          "name": "stdout",
          "output_type": "stream",
          "text": [
            "Epoch 1/10\n",
            "819/819 [==============================] - 149s 178ms/step - loss: 25.7697 - mae: 3.7564 - val_loss: 9.9786 - val_mae: 2.4382\n",
            "Epoch 2/10\n",
            "819/819 [==============================] - 146s 178ms/step - loss: 13.6101 - mae: 2.8564 - val_loss: 9.7934 - val_mae: 2.4336\n",
            "Epoch 3/10\n",
            "819/819 [==============================] - 148s 180ms/step - loss: 12.3832 - mae: 2.7229 - val_loss: 9.9396 - val_mae: 2.4732\n",
            "Epoch 4/10\n",
            "819/819 [==============================] - 147s 180ms/step - loss: 11.4439 - mae: 2.6125 - val_loss: 10.4649 - val_mae: 2.5469\n",
            "Epoch 5/10\n",
            "819/819 [==============================] - 148s 181ms/step - loss: 10.7232 - mae: 2.5242 - val_loss: 9.9930 - val_mae: 2.4727\n",
            "Epoch 6/10\n",
            "819/819 [==============================] - 145s 178ms/step - loss: 10.1543 - mae: 2.4539 - val_loss: 10.6136 - val_mae: 2.5489\n",
            "Epoch 7/10\n",
            "819/819 [==============================] - 147s 179ms/step - loss: 9.7073 - mae: 2.4005 - val_loss: 10.4126 - val_mae: 2.5244\n",
            "Epoch 8/10\n",
            "819/819 [==============================] - 147s 180ms/step - loss: 9.2331 - mae: 2.3386 - val_loss: 11.1224 - val_mae: 2.6011\n",
            "Epoch 9/10\n",
            "819/819 [==============================] - 146s 178ms/step - loss: 8.8723 - mae: 2.2950 - val_loss: 11.2667 - val_mae: 2.6262\n",
            "Epoch 10/10\n",
            "819/819 [==============================] - 147s 179ms/step - loss: 8.6032 - mae: 2.2564 - val_loss: 11.0992 - val_mae: 2.6078\n",
            "405/405 [==============================] - 12s 29ms/step - loss: 10.4945 - mae: 2.5256\n",
            "Test MAE: 2.53\n"
          ]
        }
      ],
      "source": [
        "inputs = keras.Input(shape=(sequence_length, raw_data.shape[-1]))\n",
        "x = layers.LSTM(32, recurrent_dropout=0.5, return_sequences=True)(inputs)\n",
        "x = layers.LSTM(32, recurrent_dropout=0.5)(x)\n",
        "x = layers.Dropout(0.5)(x)\n",
        "outputs = layers.Dense(1)(x)\n",
        "model = keras.Model(inputs, outputs)\n",
        "\n",
        "callbacks = [\n",
        "    keras.callbacks.ModelCheckpoint(\"jena_stacked_gru_dropout.keras\",\n",
        "                                    save_best_only=True)\n",
        "]\n",
        "model.compile(optimizer=\"rmsprop\", loss=\"mse\", metrics=[\"mae\"])\n",
        "history = model.fit(train_dataset,\n",
        "                    epochs=10,\n",
        "                    validation_data=val_dataset,\n",
        "                    callbacks=callbacks)\n",
        "model = keras.models.load_model(\"jena_stacked_gru_dropout.keras\")\n",
        "print(f\"Test MAE: {model.evaluate(test_dataset)[1]:.2f}\")"
      ]
    },
    {
      "cell_type": "markdown",
      "metadata": {
        "id": "AlJ0IMXMAJOi"
      },
      "source": [
        "**Plotting results**"
      ]
    },
    {
      "cell_type": "code",
      "execution_count": null,
      "metadata": {
        "id": "cblHLQ2A1BsY",
        "outputId": "4317c979-03ea-44ad-c329-d5bee4362674"
      },
      "outputs": [
        {
          "data": {
            "image/png": "[encoded data removed]",
            "text/plain": [
              "<Figure size 432x288 with 1 Axes>"
            ]
          },
          "metadata": {
            "needs_background": "light"
          },
          "output_type": "display_data"
        }
      ],
      "source": [
        "loss = history.history[\"mae\"]\n",
        "val_loss = history.history[\"val_mae\"]\n",
        "epochs = range(1, len(loss) + 1)\n",
        "plt.figure()\n",
        "plt.plot(epochs, loss, \"bo\", label=\"Training MAE\")\n",
        "plt.plot(epochs, val_loss, \"b\", label=\"Validation MAE\")\n",
        "plt.title(\"Training and validation MAE\")\n",
        "plt.legend()\n",
        "plt.show()"
      ]
    },
    {
      "cell_type": "markdown",
      "metadata": {
        "id": "5Q3eE8q8hBj9"
      },
      "source": [
        "### Using bidirectional RNNs"
      ]
    },
    {
      "cell_type": "markdown",
      "metadata": {
        "id": "bm_M8QVthBj-"
      },
      "source": [
        "**Training and evaluating a bidirectional LSTM**"
      ]
    },
    {
      "cell_type": "code",
      "execution_count": null,
      "metadata": {
        "id": "GPPsNgJHhBj-",
        "outputId": "6b6447f6-f1fa-4866-8056-cd8858fc69df"
      },
      "outputs": [
        {
          "name": "stdout",
          "output_type": "stream",
          "text": [
            "Epoch 1/10\n",
            "819/819 [==============================] - 90s 105ms/step - loss: 26.5152 - mae: 3.7255 - val_loss: 10.8732 - val_mae: 2.5499\n",
            "Epoch 2/10\n",
            "819/819 [==============================] - 85s 104ms/step - loss: 9.8607 - mae: 2.4536 - val_loss: 9.9145 - val_mae: 2.4398\n",
            "Epoch 3/10\n",
            "819/819 [==============================] - 85s 104ms/step - loss: 8.9717 - mae: 2.3360 - val_loss: 9.8620 - val_mae: 2.4366\n",
            "Epoch 4/10\n",
            "819/819 [==============================] - 86s 105ms/step - loss: 8.4879 - mae: 2.2764 - val_loss: 9.9146 - val_mae: 2.4437\n",
            "Epoch 5/10\n",
            "819/819 [==============================] - 86s 105ms/step - loss: 8.1358 - mae: 2.2290 - val_loss: 9.9742 - val_mae: 2.4491\n",
            "Epoch 6/10\n",
            "819/819 [==============================] - 86s 104ms/step - loss: 7.8347 - mae: 2.1853 - val_loss: 10.2091 - val_mae: 2.4724\n",
            "Epoch 7/10\n",
            "819/819 [==============================] - 85s 103ms/step - loss: 7.5430 - mae: 2.1452 - val_loss: 10.4170 - val_mae: 2.5077\n",
            "Epoch 8/10\n",
            "819/819 [==============================] - 85s 104ms/step - loss: 7.3490 - mae: 2.1196 - val_loss: 11.1986 - val_mae: 2.5836\n",
            "Epoch 9/10\n",
            "819/819 [==============================] - 85s 104ms/step - loss: 7.1447 - mae: 2.0909 - val_loss: 11.0339 - val_mae: 2.5573\n",
            "Epoch 10/10\n",
            "819/819 [==============================] - 86s 105ms/step - loss: 6.9454 - mae: 2.0603 - val_loss: 10.4320 - val_mae: 2.5108\n"
          ]
        }
      ],
      "source": [
        "inputs = keras.Input(shape=(sequence_length, raw_data.shape[-1]))\n",
        "x = layers.Bidirectional(layers.LSTM(16,recurrent_dropout=0.25))(inputs)\n",
        "outputs = layers.Dense(1)(x)\n",
        "model = keras.Model(inputs, outputs)\n",
        "\n",
        "model.compile(optimizer=\"rmsprop\", loss=\"mse\", metrics=[\"mae\"])\n",
        "history = model.fit(train_dataset,\n",
        "                    epochs=10,\n",
        "                    validation_data=val_dataset)"
      ]
    },
    {
      "cell_type": "markdown",
      "metadata": {
        "id": "sd4-eJL9AJOj"
      },
      "source": [
        "**Plotting results**"
      ]
    },
    {
      "cell_type": "code",
      "execution_count": null,
      "metadata": {
        "id": "1EZxoJe81EV7",
        "outputId": "2b1d850b-6ea1-4a7e-914e-2899d9dcf0ce"
      },
      "outputs": [
        {
          "data": {
            "image/png": "[encoded data removed]",
            "text/plain": [
              "<Figure size 432x288 with 1 Axes>"
            ]
          },
          "metadata": {
            "needs_background": "light"
          },
          "output_type": "display_data"
        }
      ],
      "source": [
        "loss = history.history[\"mae\"]\n",
        "val_loss = history.history[\"val_mae\"]\n",
        "epochs = range(1, len(loss) + 1)\n",
        "plt.figure()\n",
        "plt.plot(epochs, loss, \"bo\", label=\"Training MAE\")\n",
        "plt.plot(epochs, val_loss, \"b\", label=\"Validation MAE\")\n",
        "plt.title(\"Training and validation MAE\")\n",
        "plt.legend()\n",
        "plt.show()"
      ]
    },
    {
      "cell_type": "code",
      "execution_count": null,
      "metadata": {
        "id": "-D2Fp3O2AJOj"
      },
      "outputs": [],
      "source": []
    }
  ],
  "metadata": {
    "accelerator": "GPU",
    "colab": {
      "gpuType": "T4",
      "provenance": []
    },
    "kernelspec": {
      "display_name": "Python 3 (ipykernel)",
      "language": "python",
      "name": "python3"
    },
    "language_info": {
      "codemirror_mode": {
        "name": "ipython",
        "version": 3
      },
      "file_extension": ".py",
      "mimetype": "text/x-python",
      "name": "python",
      "nbconvert_exporter": "python",
      "pygments_lexer": "ipython3",
      "version": "3.6.8"
    }
  },
  "nbformat": 4,
  "nbformat_minor": 0
}